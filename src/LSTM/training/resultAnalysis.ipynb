{
 "cells": [
  {
   "cell_type": "code",
   "execution_count": 2,
   "metadata": {},
   "outputs": [],
   "source": [
    "import pandas as pd\n",
    "import numpy as np\n",
    "import os\n",
    "import pickle"
   ]
  },
  {
   "cell_type": "code",
   "execution_count": 3,
   "metadata": {},
   "outputs": [],
   "source": [
    "win = 5\n",
    "filePath = 'saveData/saveData_' + str(win)\n",
    "# filePath = 'workspace_NonNormalized/trajectory_10s/saveData/'\n",
    "# filePath = 'workspace_NonNormTotDistance/trajectory_10s/saveData/'\n",
    "# filePath = 'LSTMCNN_multilabel/trajectory_10s/saveData/'"
   ]
  },
  {
   "cell_type": "code",
   "execution_count": 14,
   "metadata": {},
   "outputs": [],
   "source": [
    "with open(filePath + '/innerAggregatedData.pkl', 'rb') as file: \n",
    "    innerAggregatedData = pickle.load(file)\n",
    "aggregatedInnerLoopValues = pd.DataFrame(innerAggregatedData, columns = ['Outer loop #', 'Inner loop #', 'Parameter space #', \n",
    "                                                   'miniBatchSize', 'feature alias','Testing Accuracy','Training Accuracy'])\n",
    "aggregatedInnerLoopValues.to_csv(filePath +  'aggregatedInnerLoopValues.csv', sep=',')\n"
   ]
  },
  {
   "cell_type": "code",
   "execution_count": 15,
   "metadata": {},
   "outputs": [],
   "source": [
    "with open(filePath + '/outerAggregatedData.pkl', 'rb') as file: \n",
    "    outerAggregatedData = pickle.load(file)\n",
    "aggregatedOuterLoopValues = pd.DataFrame(outerAggregatedData, columns = ['Outer loop #', \n",
    "                                                   'miniBatchSize', 'feature alias','Testing Accuracy','Training Accuracy'])\n",
    "aggregatedOuterLoopValues.to_csv(filePath + 'aggregatedOuterLoopValues.csv', sep=',')"
   ]
  },
  {
   "cell_type": "code",
   "execution_count": 11,
   "metadata": {},
   "outputs": [],
   "source": []
  },
  {
   "cell_type": "code",
   "execution_count": 4,
   "metadata": {},
   "outputs": [],
   "source": []
  },
  {
   "cell_type": "code",
   "execution_count": 6,
   "metadata": {},
   "outputs": [],
   "source": [
    "\n"
   ]
  },
  {
   "cell_type": "code",
   "execution_count": 7,
   "metadata": {},
   "outputs": [],
   "source": []
  }
 ],
 "metadata": {
  "kernelspec": {
   "display_name": "tf_gpu2",
   "language": "python",
   "name": "python3"
  },
  "language_info": {
   "codemirror_mode": {
    "name": "ipython",
    "version": 3
   },
   "file_extension": ".py",
   "mimetype": "text/x-python",
   "name": "python",
   "nbconvert_exporter": "python",
   "pygments_lexer": "ipython3",
   "version": "3.11.6"
  }
 },
 "nbformat": 4,
 "nbformat_minor": 2
}
