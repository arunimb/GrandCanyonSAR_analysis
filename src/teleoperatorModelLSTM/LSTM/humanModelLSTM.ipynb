{
 "cells": [
  {
   "cell_type": "code",
   "execution_count": 3,
   "metadata": {},
   "outputs": [],
   "source": [
    "import pandas as pd\n",
    "from sklearn.metrics import confusion_matrix\n",
    "import seaborn as sns\n",
    "import matplotlib.pyplot as plt\n",
    "import numpy as np\n",
    "import os\n",
    "import tensorflow as tf\n",
    "from keras import Sequential\n",
    "\n",
    "from keras import layers\n",
    "import keras\n",
    "from keras.layers import Dense\n",
    "from keras.layers import LSTM, GRU, Bidirectional\n",
    "from keras.layers import Activation\n",
    "from keras.layers import Dropout\n",
    "import pickle\n",
    "import warnings\n",
    "warnings.filterwarnings(\"ignore\")\n",
    "import logging\n",
    "logging.getLogger('tensorflow').setLevel(logging.ERROR)\n",
    "import keras.backend as K\n",
    "#from keras.backend import ModelCheckpoint"
   ]
  },
  {
   "cell_type": "code",
   "execution_count": 6,
   "metadata": {},
   "outputs": [],
   "source": [
    "subjectList = pd.read_csv(\"/mnt/e/GrandCanyonSAR_analysis/data/participantID1.csv\", header=None)\n",
    "subjectList = subjectList.to_numpy()"
   ]
  },
  {
   "cell_type": "code",
   "execution_count": 20,
   "metadata": {},
   "outputs": [],
   "source": [
    "prepreFolder = \"/mnt/e/GrandCanyonSAR_analysis/src/teleoperatorModelLSTM/exportedTrajectoryTeleoperatorModelling/windowSize_5/\"\n",
    "\n",
    "accumulateXtrajSegments = []\n",
    "accumulateYtrajSegments = []\n",
    "accumulateZtrajSegments = []\n",
    "accumulateXswarmCentroid = []\n",
    "accumulateZswarmCentroid = []\n",
    "accumulateXswarmStd = []\n",
    "accumulateZswarmStd = []\n",
    "accumulateOutputXacc = []\n",
    "accumulateOutputYacc = []\n",
    "accumulateOutputZacc = []\n",
    "accumulateOutputXvel = []\n",
    "accumulateOutputYvel = []\n",
    "accumulateOutputZvel = []\n",
    "accumulatePersonKnowledge = []\n",
    "accumulateTerrainKnowledge = []\n",
    "c = 0\n",
    "for i in subjectList:\n",
    "    prefolder = prepreFolder + str(i[0]) + \"/\"\n",
    "    fileName = prefolder + \"accumulateXtrajSegments.csv\"\n",
    "    temp1 = pd.read_csv(fileName, header=None)\n",
    "    temp1 = temp1.to_numpy()\n",
    "\n",
    "    fileName = prefolder + \"accumulateYtrajSegments.csv\"\n",
    "    temp2 = pd.read_csv(fileName, header=None)\n",
    "    temp2 = temp2.to_numpy()\n",
    "\n",
    "    fileName = prefolder + \"accumulateZtrajSegments.csv\"\n",
    "    temp3 = pd.read_csv(fileName, header=None)\n",
    "    temp3 = temp3.to_numpy()\n",
    "    \n",
    "    fileName = prefolder + \"accumulateXswarmCentroid.csv\"\n",
    "    temp4 = pd.read_csv(fileName, header=None)\n",
    "    temp4 = temp4.to_numpy()\n",
    "    \n",
    "    fileName = prefolder + \"accumulateZswarmCentroid.csv\"\n",
    "    temp5 = pd.read_csv(fileName, header=None)\n",
    "    temp5 = temp5.to_numpy()\n",
    "    \n",
    "    fileName = prefolder + \"accumulateXswarmStd.csv\"\n",
    "    temp6 = pd.read_csv(fileName, header=None)\n",
    "    temp6 = temp6.to_numpy()\n",
    "    \n",
    "    fileName = prefolder + \"accumulateZswarmStd.csv\"\n",
    "    temp7 = pd.read_csv(fileName, header=None)\n",
    "    temp7 = temp7.to_numpy()\n",
    "    \n",
    "    fileName = prefolder + \"accumulateOutputXacc.csv\"\n",
    "    temp8 = pd.read_csv(fileName, header=None)\n",
    "    temp8 = temp8.to_numpy()\n",
    "    \n",
    "    fileName = prefolder + \"accumulateOutputYacc.csv\"\n",
    "    temp9 = pd.read_csv(fileName, header=None)\n",
    "    temp9 = temp9.to_numpy()\n",
    "    \n",
    "    fileName = prefolder + \"accumulateOutputZacc.csv\"\n",
    "    temp10 = pd.read_csv(fileName, header=None)\n",
    "    temp10 = temp10.to_numpy()\n",
    "    \n",
    "    fileName = prefolder + \"accumulateOutputXvel.csv\"\n",
    "    temp11 = pd.read_csv(fileName, header=None)\n",
    "    temp11 = temp11.to_numpy()\n",
    "\n",
    "    fileName = prefolder + \"accumulateOutputYvel.csv\"\n",
    "    temp12 = pd.read_csv(fileName, header=None)\n",
    "    temp12 = temp12.to_numpy()\n",
    "    \n",
    "    fileName = prefolder + \"accumulateOutputZvel.csv\"\n",
    "    temp13 = pd.read_csv(fileName, header=None)\n",
    "    temp13 = temp13.to_numpy()\n",
    "    \n",
    "    fileName = prefolder + \"accumulatePersonKnowledge.csv\"\n",
    "    temp14 = pd.read_csv(fileName, header=None)\n",
    "    temp14 = temp14.to_numpy()\n",
    "    \n",
    "    fileName = prefolder + \"accumulateTerrainKnowledge.csv\"\n",
    "    temp15 = pd.read_csv(fileName, header=None)\n",
    "    temp15 = temp15.to_numpy()\n",
    "    \n",
    "    \n",
    "    if c == 0:\n",
    "        accumulateXtrajSegments = np.array(temp1, copy=True)\n",
    "        accumulateYtrajSegments = np.array(temp2, copy=True)\n",
    "        accumulateZtrajSegments = np.array(temp3, copy=True)\n",
    "        accumulateXswarmCentroid = np.array(temp4, copy=True)\n",
    "        accumulateZswarmCentroid = np.array(temp5, copy=True)\n",
    "        accumulateXswarmStd = np.array(temp6, copy=True)\n",
    "        accumulateZswarmStd = np.array(temp7, copy=True)\n",
    "        accumulateOutputXacc = np.array(temp8, copy=True)\n",
    "        accumulateOutputYacc = np.array(temp9, copy=True)\n",
    "        accumulateOutputZacc = np.array(temp10, copy=True)\n",
    "        accumulateOutputXvel = np.array(temp11, copy=True)\n",
    "        accumulateOutputYvel = np.array(temp12, copy=True)\n",
    "        accumulateOutputZvel = np.array(temp13, copy=True)\n",
    "        accumulatePersonKnowledge = np.array(temp14, copy=True)\n",
    "        accumulateTerrainKnowledge = np.array(temp15, copy=True)\n",
    "        c = 1\n",
    "    else:\n",
    "        accumulateXtrajSegments = np.vstack((accumulateXtrajSegments,temp1))\n",
    "        accumulateYtrajSegments = np.vstack((accumulateYtrajSegments,temp2))\n",
    "        accumulateZtrajSegments = np.vstack((accumulateZtrajSegments,temp3))\n",
    "        accumulateXswarmCentroid = np.vstack((accumulateXswarmCentroid,temp4))\n",
    "        accumulateZswarmCentroid = np.vstack((accumulateZswarmCentroid,temp5))\n",
    "        accumulateXswarmStd = np.vstack((accumulateXswarmStd,temp6))\n",
    "        accumulateZswarmStd = np.vstack((accumulateZswarmStd,temp7))\n",
    "        accumulateOutputXacc = np.vstack((accumulateOutputXacc,temp8))\n",
    "        accumulateOutputYacc = np.vstack((accumulateOutputYacc,temp9))\n",
    "        accumulateOutputZacc = np.vstack((accumulateOutputZacc,temp10))\n",
    "        accumulateOutputXvel = np.vstack((accumulateOutputXvel,temp11))\n",
    "        accumulateOutputYvel = np.vstack((accumulateOutputYvel,temp12))\n",
    "        accumulateOutputZvel = np.vstack((accumulateOutputZvel,temp13))\n",
    "        accumulatePersonKnowledge = np.vstack((accumulatePersonKnowledge,temp14))\n",
    "        accumulateTerrainKnowledge = np.vstack((accumulateTerrainKnowledge,temp15))"
   ]
  },
  {
   "cell_type": "code",
   "execution_count": 21,
   "metadata": {},
   "outputs": [],
   "source": [
    "inputTrajectories = np.dstack([accumulateXtrajSegments,accumulateYtrajSegments,accumulateZtrajSegments])\n",
    "inputStaticParameters = np.hstack((accumulateXswarmCentroid,accumulateZswarmCentroid,accumulateXswarmStd,accumulateZswarmStd,accumulateOutputXacc,accumulateOutputYacc,accumulateOutputZacc,\n",
    "                                   accumulatePersonKnowledge,accumulateTerrainKnowledge))\n",
    "outputData = np.hstack((accumulateOutputXacc,accumulateOutputYacc,accumulateOutputZacc,accumulateOutputXvel,accumulateOutputYvel,accumulateOutputZvel))"
   ]
  },
  {
   "cell_type": "code",
   "execution_count": 30,
   "metadata": {},
   "outputs": [],
   "source": [
    "randInd = np.random.permutation(inputTrajectories.shape[0])\n",
    "inputTrajectories_shuffled = np.array(inputTrajectories, copy=True)\n",
    "inputStaticParameters_shuffled = np.array(inputStaticParameters, copy=True)\n",
    "outputData_shuffled = np.array(outputData, copy=True)\n",
    "#np.take(inputTrajectories,randInd,axis=0,out=inputTrajectories_shuffled)\n",
    "#np.take(inputStaticParameters,randInd,axis=0,out=inputStaticParameters_shuffled)\n",
    "#np.take(outputData,randInd,axis=0,out=outputData_shuffled)"
   ]
  },
  {
   "cell_type": "code",
   "execution_count": 22,
   "metadata": {},
   "outputs": [
    {
     "data": {
      "text/plain": [
       "(9062, 120, 3)"
      ]
     },
     "execution_count": 22,
     "metadata": {},
     "output_type": "execute_result"
    }
   ],
   "source": [
    "inputTrajectories.shape"
   ]
  },
  {
   "cell_type": "code",
   "execution_count": 24,
   "metadata": {},
   "outputs": [
    {
     "data": {
      "text/plain": [
       "(9062, 9)"
      ]
     },
     "execution_count": 24,
     "metadata": {},
     "output_type": "execute_result"
    }
   ],
   "source": [
    "inputStaticParameters.shape"
   ]
  },
  {
   "cell_type": "code",
   "execution_count": 25,
   "metadata": {},
   "outputs": [
    {
     "data": {
      "text/plain": [
       "(9062, 6)"
      ]
     },
     "execution_count": 25,
     "metadata": {},
     "output_type": "execute_result"
    }
   ],
   "source": [
    "outputData.shape"
   ]
  },
  {
   "cell_type": "code",
   "execution_count": 26,
   "metadata": {},
   "outputs": [],
   "source": [
    "input1 = keras.layers.Input(shape=(120,3 ))\n",
    "x1 = Bidirectional(LSTM(200, activation='tanh', return_sequences=True))(input1)\n",
    "x1 = Bidirectional(LSTM(200, activation='tanh',return_sequences=False))(x1)\n",
    "#x1 = Bidirectional(LSTM(200, activation='tanh',return_sequences=False))(x1)\n",
    "\n",
    "input2 =  keras.layers.Input(shape=(9, ))\n",
    "x2 = Dense(32,activation=keras.activations.relu)(input2)\n",
    "x2 = Dense(7,activation=keras.activations.tanh)(x2)\n",
    "\n",
    "merged = keras.layers.Concatenate(axis=1)([x1, x2])\n",
    "x3 = keras.layers.Flatten()(merged)\n",
    "x3 = Dense(100, activation=keras.activations.tanh)(x3)\n",
    "x3 = Dense(50,activation=keras.activations.tanh)(x3)\n",
    "x3 = Dense(6,activation=keras.activations.tanh)(x3)\n",
    "#x3 = Dense(400,activation=keras.activations.tanh)(x3)\n",
    "#x3 = Dense(300,activation=keras.activations.tanh)(x3)\n",
    "#x3 = Dense(300,activation=keras.activations.tanh)(x3)\n",
    "output1 = keras.layers.Reshape((1,6))(x3)\n",
    "\n",
    "\n",
    "\n",
    "\n",
    "mlModel2 = keras.Model(inputs=[input1, input2], outputs=output1)\n",
    "optimizer = tf.keras.optimizers.Adam(learning_rate=0.001, weight_decay=0.01)\n",
    "mlModel2.compile(loss='mse',optimizer =optimizer,metrics=['mse'])\n",
    "#mlModel2.compile(loss=focal_loss,optimizer =optimizer,metrics=focal_loss)"
   ]
  },
  {
   "cell_type": "code",
   "execution_count": 31,
   "metadata": {},
   "outputs": [
    {
     "name": "stdout",
     "output_type": "stream",
     "text": [
      "Epoch 1/60\n",
      "25/25 - 4s - loss: 0.0401 - mse: 0.0401 - val_loss: 0.0250 - val_mse: 0.0253 - 4s/epoch - 171ms/step\n",
      "Epoch 2/60\n",
      "25/25 - 3s - loss: 0.0402 - mse: 0.0403 - val_loss: 0.0246 - val_mse: 0.0249 - 3s/epoch - 125ms/step\n",
      "Epoch 3/60\n",
      "25/25 - 3s - loss: 0.0401 - mse: 0.0401 - val_loss: 0.0247 - val_mse: 0.0250 - 3s/epoch - 125ms/step\n",
      "Epoch 4/60\n",
      "25/25 - 3s - loss: 0.0401 - mse: 0.0401 - val_loss: 0.0248 - val_mse: 0.0250 - 3s/epoch - 122ms/step\n",
      "Epoch 5/60\n",
      "25/25 - 3s - loss: 0.0400 - mse: 0.0400 - val_loss: 0.0247 - val_mse: 0.0249 - 3s/epoch - 121ms/step\n",
      "Epoch 6/60\n",
      "25/25 - 3s - loss: 0.0401 - mse: 0.0401 - val_loss: 0.0253 - val_mse: 0.0255 - 3s/epoch - 122ms/step\n",
      "Epoch 7/60\n",
      "25/25 - 3s - loss: 0.0402 - mse: 0.0401 - val_loss: 0.0251 - val_mse: 0.0254 - 3s/epoch - 121ms/step\n",
      "Epoch 8/60\n",
      "25/25 - 3s - loss: 0.0402 - mse: 0.0403 - val_loss: 0.0247 - val_mse: 0.0249 - 3s/epoch - 121ms/step\n",
      "Epoch 9/60\n",
      "25/25 - 3s - loss: 0.0400 - mse: 0.0401 - val_loss: 0.0246 - val_mse: 0.0249 - 3s/epoch - 121ms/step\n",
      "Epoch 10/60\n",
      "25/25 - 3s - loss: 0.0400 - mse: 0.0400 - val_loss: 0.0248 - val_mse: 0.0250 - 3s/epoch - 121ms/step\n",
      "Epoch 11/60\n",
      "25/25 - 3s - loss: 0.0402 - mse: 0.0402 - val_loss: 0.0248 - val_mse: 0.0251 - 3s/epoch - 117ms/step\n",
      "Epoch 12/60\n",
      "25/25 - 3s - loss: 0.0400 - mse: 0.0401 - val_loss: 0.0248 - val_mse: 0.0251 - 3s/epoch - 115ms/step\n",
      "Epoch 13/60\n",
      "25/25 - 3s - loss: 0.0400 - mse: 0.0400 - val_loss: 0.0247 - val_mse: 0.0250 - 3s/epoch - 115ms/step\n",
      "Epoch 14/60\n",
      "25/25 - 3s - loss: 0.0401 - mse: 0.0401 - val_loss: 0.0251 - val_mse: 0.0254 - 3s/epoch - 117ms/step\n",
      "Epoch 15/60\n",
      "25/25 - 3s - loss: 0.0400 - mse: 0.0400 - val_loss: 0.0246 - val_mse: 0.0249 - 3s/epoch - 120ms/step\n",
      "Epoch 16/60\n",
      "25/25 - 3s - loss: 0.0400 - mse: 0.0401 - val_loss: 0.0246 - val_mse: 0.0249 - 3s/epoch - 120ms/step\n",
      "Epoch 17/60\n",
      "25/25 - 3s - loss: 0.0400 - mse: 0.0400 - val_loss: 0.0246 - val_mse: 0.0249 - 3s/epoch - 122ms/step\n",
      "Epoch 18/60\n",
      "25/25 - 3s - loss: 0.0400 - mse: 0.0400 - val_loss: 0.0248 - val_mse: 0.0250 - 3s/epoch - 121ms/step\n",
      "Epoch 19/60\n",
      "25/25 - 3s - loss: 0.0400 - mse: 0.0401 - val_loss: 0.0246 - val_mse: 0.0248 - 3s/epoch - 122ms/step\n",
      "Epoch 20/60\n",
      "25/25 - 3s - loss: 0.0400 - mse: 0.0400 - val_loss: 0.0248 - val_mse: 0.0250 - 3s/epoch - 121ms/step\n",
      "Epoch 21/60\n",
      "25/25 - 3s - loss: 0.0402 - mse: 0.0402 - val_loss: 0.0250 - val_mse: 0.0252 - 3s/epoch - 121ms/step\n",
      "Epoch 22/60\n",
      "25/25 - 3s - loss: 0.0401 - mse: 0.0401 - val_loss: 0.0246 - val_mse: 0.0249 - 3s/epoch - 121ms/step\n",
      "Epoch 23/60\n",
      "25/25 - 3s - loss: 0.0399 - mse: 0.0399 - val_loss: 0.0247 - val_mse: 0.0250 - 3s/epoch - 120ms/step\n",
      "Epoch 24/60\n",
      "25/25 - 3s - loss: 0.0400 - mse: 0.0400 - val_loss: 0.0249 - val_mse: 0.0252 - 3s/epoch - 121ms/step\n",
      "Epoch 25/60\n",
      "25/25 - 3s - loss: 0.0401 - mse: 0.0401 - val_loss: 0.0246 - val_mse: 0.0248 - 3s/epoch - 122ms/step\n",
      "Epoch 26/60\n",
      "25/25 - 3s - loss: 0.0401 - mse: 0.0402 - val_loss: 0.0254 - val_mse: 0.0256 - 3s/epoch - 118ms/step\n",
      "Epoch 27/60\n",
      "25/25 - 3s - loss: 0.0403 - mse: 0.0403 - val_loss: 0.0247 - val_mse: 0.0249 - 3s/epoch - 123ms/step\n",
      "Epoch 28/60\n",
      "25/25 - 3s - loss: 0.0402 - mse: 0.0402 - val_loss: 0.0246 - val_mse: 0.0248 - 3s/epoch - 119ms/step\n",
      "Epoch 29/60\n",
      "25/25 - 3s - loss: 0.0401 - mse: 0.0401 - val_loss: 0.0247 - val_mse: 0.0249 - 3s/epoch - 122ms/step\n",
      "Epoch 30/60\n",
      "25/25 - 3s - loss: 0.0401 - mse: 0.0401 - val_loss: 0.0248 - val_mse: 0.0250 - 3s/epoch - 121ms/step\n",
      "Epoch 31/60\n",
      "25/25 - 3s - loss: 0.0400 - mse: 0.0401 - val_loss: 0.0249 - val_mse: 0.0251 - 3s/epoch - 123ms/step\n",
      "Epoch 32/60\n",
      "25/25 - 3s - loss: 0.0402 - mse: 0.0402 - val_loss: 0.0246 - val_mse: 0.0249 - 3s/epoch - 121ms/step\n",
      "Epoch 33/60\n",
      "25/25 - 3s - loss: 0.0400 - mse: 0.0400 - val_loss: 0.0249 - val_mse: 0.0251 - 3s/epoch - 122ms/step\n",
      "Epoch 34/60\n",
      "25/25 - 3s - loss: 0.0402 - mse: 0.0402 - val_loss: 0.0247 - val_mse: 0.0250 - 3s/epoch - 122ms/step\n",
      "Epoch 35/60\n",
      "25/25 - 3s - loss: 0.0401 - mse: 0.0401 - val_loss: 0.0251 - val_mse: 0.0254 - 3s/epoch - 122ms/step\n",
      "Epoch 36/60\n",
      "25/25 - 3s - loss: 0.0400 - mse: 0.0401 - val_loss: 0.0247 - val_mse: 0.0249 - 3s/epoch - 121ms/step\n",
      "Epoch 37/60\n",
      "25/25 - 3s - loss: 0.0401 - mse: 0.0401 - val_loss: 0.0247 - val_mse: 0.0250 - 3s/epoch - 121ms/step\n",
      "Epoch 38/60\n",
      "25/25 - 3s - loss: 0.0399 - mse: 0.0400 - val_loss: 0.0248 - val_mse: 0.0250 - 3s/epoch - 121ms/step\n",
      "Epoch 39/60\n",
      "25/25 - 3s - loss: 0.0400 - mse: 0.0400 - val_loss: 0.0246 - val_mse: 0.0248 - 3s/epoch - 121ms/step\n",
      "Epoch 40/60\n",
      "25/25 - 3s - loss: 0.0402 - mse: 0.0402 - val_loss: 0.0246 - val_mse: 0.0249 - 3s/epoch - 122ms/step\n",
      "Epoch 41/60\n",
      "25/25 - 3s - loss: 0.0401 - mse: 0.0401 - val_loss: 0.0247 - val_mse: 0.0249 - 3s/epoch - 121ms/step\n",
      "Epoch 42/60\n",
      "25/25 - 3s - loss: 0.0400 - mse: 0.0400 - val_loss: 0.0247 - val_mse: 0.0250 - 3s/epoch - 122ms/step\n",
      "Epoch 43/60\n",
      "25/25 - 3s - loss: 0.0400 - mse: 0.0399 - val_loss: 0.0248 - val_mse: 0.0250 - 3s/epoch - 122ms/step\n",
      "Epoch 44/60\n",
      "25/25 - 3s - loss: 0.0400 - mse: 0.0400 - val_loss: 0.0247 - val_mse: 0.0250 - 3s/epoch - 122ms/step\n",
      "Epoch 45/60\n",
      "25/25 - 3s - loss: 0.0400 - mse: 0.0400 - val_loss: 0.0246 - val_mse: 0.0248 - 3s/epoch - 122ms/step\n",
      "Epoch 46/60\n",
      "25/25 - 3s - loss: 0.0400 - mse: 0.0400 - val_loss: 0.0247 - val_mse: 0.0250 - 3s/epoch - 121ms/step\n",
      "Epoch 47/60\n",
      "25/25 - 3s - loss: 0.0400 - mse: 0.0399 - val_loss: 0.0248 - val_mse: 0.0250 - 3s/epoch - 121ms/step\n",
      "Epoch 48/60\n",
      "25/25 - 3s - loss: 0.0401 - mse: 0.0400 - val_loss: 0.0247 - val_mse: 0.0249 - 3s/epoch - 123ms/step\n",
      "Epoch 49/60\n",
      "25/25 - 3s - loss: 0.0401 - mse: 0.0401 - val_loss: 0.0246 - val_mse: 0.0249 - 3s/epoch - 121ms/step\n",
      "Epoch 50/60\n",
      "25/25 - 3s - loss: 0.0401 - mse: 0.0401 - val_loss: 0.0247 - val_mse: 0.0249 - 3s/epoch - 122ms/step\n",
      "Epoch 51/60\n",
      "25/25 - 3s - loss: 0.0401 - mse: 0.0400 - val_loss: 0.0248 - val_mse: 0.0251 - 3s/epoch - 121ms/step\n",
      "Epoch 52/60\n",
      "25/25 - 3s - loss: 0.0400 - mse: 0.0398 - val_loss: 0.0247 - val_mse: 0.0250 - 3s/epoch - 122ms/step\n",
      "Epoch 53/60\n",
      "25/25 - 3s - loss: 0.0402 - mse: 0.0402 - val_loss: 0.0248 - val_mse: 0.0251 - 3s/epoch - 122ms/step\n",
      "Epoch 54/60\n",
      "25/25 - 3s - loss: 0.0400 - mse: 0.0400 - val_loss: 0.0249 - val_mse: 0.0252 - 3s/epoch - 121ms/step\n",
      "Epoch 55/60\n",
      "25/25 - 3s - loss: 0.0401 - mse: 0.0401 - val_loss: 0.0247 - val_mse: 0.0250 - 3s/epoch - 122ms/step\n",
      "Epoch 56/60\n",
      "25/25 - 3s - loss: 0.0399 - mse: 0.0399 - val_loss: 0.0247 - val_mse: 0.0250 - 3s/epoch - 122ms/step\n",
      "Epoch 57/60\n",
      "25/25 - 3s - loss: 0.0400 - mse: 0.0399 - val_loss: 0.0248 - val_mse: 0.0251 - 3s/epoch - 122ms/step\n",
      "Epoch 58/60\n",
      "25/25 - 3s - loss: 0.0401 - mse: 0.0401 - val_loss: 0.0249 - val_mse: 0.0251 - 3s/epoch - 121ms/step\n",
      "Epoch 59/60\n",
      "25/25 - 3s - loss: 0.0400 - mse: 0.0400 - val_loss: 0.0246 - val_mse: 0.0249 - 3s/epoch - 122ms/step\n",
      "Epoch 60/60\n",
      "25/25 - 3s - loss: 0.0400 - mse: 0.0400 - val_loss: 0.0247 - val_mse: 0.0249 - 3s/epoch - 121ms/step\n"
     ]
    }
   ],
   "source": [
    "keras.backend.clear_session()\n",
    "history = mlModel2.fit([inputTrajectories_shuffled, inputStaticParameters_shuffled],outputData_shuffled,epochs=60,validation_split=0.3,batch_size=256,verbose=2)"
   ]
  },
  {
   "cell_type": "code",
   "execution_count": 32,
   "metadata": {},
   "outputs": [
    {
     "data": {
      "text/plain": [
       "<matplotlib.legend.Legend at 0x7fcacaf7d350>"
      ]
     },
     "execution_count": 32,
     "metadata": {},
     "output_type": "execute_result"
    },
    {
     "data": {
      "image/png": "[encoded data removed]",
      "text/plain": [
       "<Figure size 640x480 with 1 Axes>"
      ]
     },
     "metadata": {},
     "output_type": "display_data"
    }
   ],
   "source": [
    "plt.plot(history.history['val_loss'], label='Validation Loss')\n",
    "plt.plot(history.history['loss'], label='Training Loss')\n",
    "plt.xlabel('Epoch', fontsize=24)\n",
    "plt.ylabel('Loss', fontsize=24)\n",
    "#plt.ylim((0, 0.02))\n",
    "plt.tick_params(axis='both', which='major', labelsize=23)\n",
    "plt.legend(fontsize=20)"
   ]
  }
 ],
 "metadata": {
  "kernelspec": {
   "display_name": "tf_gpu",
   "language": "python",
   "name": "python3"
  },
  "language_info": {
   "codemirror_mode": {
    "name": "ipython",
    "version": 3
   },
   "file_extension": ".py",
   "mimetype": "text/x-python",
   "name": "python",
   "nbconvert_exporter": "python",
   "pygments_lexer": "ipython3",
   "version": "3.11.6"
  }
 },
 "nbformat": 4,
 "nbformat_minor": 2
}
